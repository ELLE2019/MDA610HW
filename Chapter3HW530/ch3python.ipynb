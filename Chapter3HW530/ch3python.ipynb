{
 "cells": [
  {
   "cell_type": "code",
   "execution_count": 1,
   "metadata": {},
   "outputs": [
    {
     "name": "stdout",
     "output_type": "stream",
     "text": [
      "What is your problem:flu\n",
      "Have you ever had this problem before (yes or no)?:yes\n",
      "Well, you have it again!\n"
     ]
    }
   ],
   "source": [
    "#3.6\n",
    "Message = input(\"What is your problem:\")\n",
    "Message1 = input(\"Have you ever had this problem before (yes or no)?:\")\n",
    "if Message1 == \"yes\":\n",
    "    print(\"Well, you have it again!\")\n",
    "else:\n",
    "    print(\"Well, you have it now\")"
   ]
  },
  {
   "cell_type": "code",
   "execution_count": 2,
   "metadata": {},
   "outputs": [
    {
     "name": "stdout",
     "output_type": "stream",
     "text": [
      "0         0         0\n",
      "1         1         1\n",
      "2         4         8\n",
      "3         9        27\n",
      "4        16        64\n",
      "5        25       125\n"
     ]
    }
   ],
   "source": [
    "#3.7\n",
    "for num in range(0,6):\n",
    "    square = num ** 2\n",
    "    cube = num **3\n",
    "    print(f'{num}{square:>10}{cube:>10}')"
   ]
  },
  {
   "cell_type": "code",
   "execution_count": 3,
   "metadata": {},
   "outputs": [
    {
     "name": "stdout",
     "output_type": "stream",
     "text": [
      "Enter number : 8\n",
      "Enter number : 4\n",
      "Enter number : 3\n",
      "Enter number : 2\n",
      "Average of numbers is : 4.25\n",
      "sum of numbers is : 17\n",
      "max of  numbers is : 8\n",
      "product of numbers is : 192\n"
     ]
    }
   ],
   "source": [
    "#3.8\n",
    "n = 4\n",
    "m = []\n",
    "total_sum = 0\n",
    "product = 1\n",
    "for i in range(n):\n",
    "    numbers = int(input('Enter number : '))\n",
    "    m.append(int(numbers))\n",
    "    maxnum = max(m)\n",
    "    total_sum += numbers\n",
    "    product *= numbers\n",
    "    \n",
    "avg = total_sum/4\n",
    "print('Average of numbers is :', avg)\n",
    "print('sum of numbers is :', total_sum)\n",
    "print('max of  numbers is :', maxnum)\n",
    "print('product of numbers is :',product )"
   ]
  },
  {
   "cell_type": "code",
   "execution_count": 4,
   "metadata": {},
   "outputs": [
    {
     "name": "stdout",
     "output_type": "stream",
     "text": [
      "enter a 5 digits number: 89998\n",
      "8  9  9  9  8  "
     ]
    }
   ],
   "source": [
    "#3.9\n",
    "\n",
    "n = int(input('enter a 5 digits number: '))\n",
    "m = [10000,1000,100,10,1]\n",
    "for i in m :\n",
    "    print (n // i % 10, end='  ')"
   ]
  },
  {
   "cell_type": "code",
   "execution_count": 5,
   "metadata": {},
   "outputs": [
    {
     "name": "stdout",
     "output_type": "stream",
     "text": [
      "Year    Amount on deposit\n",
      "1 \t 1070.0\n",
      "2 \t 1144.9\n",
      "3 \t 1225.0430000000001\n",
      "4 \t 1310.7960100000003\n",
      "5 \t 1402.5517307000005\n",
      "6 \t 1500.7303518490005\n",
      "7 \t 1605.7814764784307\n",
      "8 \t 1718.186179831921\n",
      "9 \t 1838.4592124201556\n",
      "10 \t 1967.1513572895665\n",
      "11 \t 2104.8519522998363\n",
      "12 \t 2252.191588960825\n",
      "13 \t 2409.845000188083\n",
      "14 \t 2578.534150201249\n",
      "15 \t 2759.031540715336\n",
      "16 \t 2952.16374856541\n",
      "17 \t 3158.8152109649886\n",
      "18 \t 3379.932275732538\n",
      "19 \t 3616.5275350338165\n",
      "20 \t 3869.6844624861833\n",
      "21 \t 4140.562374860217\n",
      "22 \t 4430.401741100432\n",
      "23 \t 4740.5298629774625\n",
      "24 \t 5072.366953385886\n",
      "25 \t 5427.432640122897\n",
      "26 \t 5807.352924931501\n",
      "27 \t 6213.867629676706\n",
      "28 \t 6648.838363754076\n",
      "29 \t 7114.257049216862\n",
      "30 \t 7612.255042662042\n"
     ]
    }
   ],
   "source": [
    "#3.10\n",
    "principal = 1000.0   # starting principal\n",
    "rate = .07           # interest rate\n",
    "\n",
    "print (\"Year    Amount on deposit\")\n",
    "\n",
    "for year in range( 1, 31 ):\n",
    "    amount = principal * ( 1.0 + rate ) ** year\n",
    "    print ( year,'\\t' ,amount )"
   ]
  },
  {
   "cell_type": "code",
   "execution_count": 6,
   "metadata": {},
   "outputs": [
    {
     "name": "stdout",
     "output_type": "stream",
     "text": [
      "Enter the gallons used(-1 to end): 8\n",
      "Enter the miles driven: 4\n",
      "the miles/ gallons for this tank was ,0.5\n",
      "Enter the gallons used(-1 to end): 3\n",
      "Enter the miles driven: 2\n",
      "the miles/ gallons for this tank was ,0.6666666666666666\n",
      "Enter the gallons used(-1 to end): -1\n",
      " The overal miles/gallon was 1.83\n"
     ]
    }
   ],
   "source": [
    "#3.11\n",
    "totalgal = 0\n",
    "totalcounter = 0\n",
    "\n",
    "gal =float(input(\"Enter the gallons used(-1 to end): \"))\n",
    "while gal!=-1:   \n",
    "    totalgal += gal\n",
    "    mi =float(input(\"Enter the miles driven: \"))\n",
    "    totalcounter += mi\n",
    "    mpg = mi /gal\n",
    "    mm =print(f'the miles/ gallons for this tank was ,{mpg}')\n",
    "    gal =int(input(\"Enter the gallons used(-1 to end): \"))\n",
    "    \n",
    "\n",
    "    \n",
    "if  totalcounter!= 0:\n",
    "    ave = totalgal / totalcounter \n",
    "    print(f' The overal miles/gallon was {ave:.2f}') \n",
    "    \n",
    "else:\n",
    "    print('noting were intered')\n",
    "                      "
   ]
  },
  {
   "cell_type": "code",
   "execution_count": 7,
   "metadata": {},
   "outputs": [
    {
     "name": "stdout",
     "output_type": "stream",
     "text": [
      "Enter a 5 digits number:98889\n",
      "The number is a palindrome!\n"
     ]
    }
   ],
   "source": [
    "#3.12\n",
    "n=int(input(\"Enter a 5 digits number:\"))\n",
    "temp=n\n",
    "rev=0\n",
    "while(n>0):\n",
    "    dig=n%10\n",
    "    rev=rev*10+dig\n",
    "    n=n//10\n",
    "if(temp==rev):\n",
    "    print(\"The number is a palindrome!\")\n",
    "else:\n",
    "    print(\"The number isn't a palindrome!\")"
   ]
  },
  {
   "cell_type": "code",
   "execution_count": 8,
   "metadata": {},
   "outputs": [
    {
     "name": "stdout",
     "output_type": "stream",
     "text": [
      "Enter a number : 8\n",
      "The factorial of 8 is 40320\n"
     ]
    }
   ],
   "source": [
    "#3.13\n",
    "num = int(input(\"Enter a number : \"))\n",
    "factorial = 1\n",
    "if num < 0:\n",
    "        print(\"Sorry, factorial does not exist for negative numbers\")\n",
    "elif num == 0:\n",
    "    print(\"The factorial of 0 is 1\")\n",
    "else:\n",
    "    for i in range(1,num + 1):\n",
    "        factorial = factorial * i\n",
    "    print(\"The factorial of\",num,\"is\",factorial)"
   ]
  },
  {
   "cell_type": "code",
   "execution_count": 9,
   "metadata": {},
   "outputs": [
    {
     "name": "stdout",
     "output_type": "stream",
     "text": [
      "This program will approximate the value of pi by summing a series of n terms.\n",
      "Enter the number of terms to be summed:6\n",
      "The approximation of pi with 6 terms is 4.0\n",
      "The accuracy of the approximation is 21.460183660255172 %\n",
      "The approximation of pi with 6 terms is 2.666666666666667\n",
      "The accuracy of the approximation is 17.809724509617226 %\n",
      "The approximation of pi with 6 terms is 3.466666666666667\n",
      "The accuracy of the approximation is 9.377134992602125 %\n",
      "The approximation of pi with 6 terms is 2.8952380952380956\n",
      "The accuracy of the approximation is 8.508956785173762 %\n",
      "The approximation of pi with 6 terms is 3.3396825396825403\n",
      "The accuracy of the approximation is 5.9313986805337775 %\n",
      "The approximation of pi with 6 terms is 2.9760461760461765\n",
      "The accuracy of the approximation is 5.562631348803641 %\n"
     ]
    }
   ],
   "source": [
    "#3.14\n",
    "def main():\n",
    "    import math\n",
    "    print(\"This program will approximate the value of pi by summing a series of n terms.\")\n",
    "    n = int(input(\"Enter the number of terms to be summed:\"))\n",
    "    Sum = 0\n",
    "    for i in range(n):\n",
    "        Sum = Sum + 4.0*(-1)**i/(2*i+1)\n",
    "        accuracy = 100*abs(math.pi-Sum)/Sum\n",
    "        print(\"The approximation of pi with\",n,\"terms is\",Sum)\n",
    "        print(\"The accuracy of the approximation is\",accuracy,\"%\")\n",
    "main() \n",
    "\n"
   ]
  },
  {
   "cell_type": "code",
   "execution_count": 10,
   "metadata": {},
   "outputs": [
    {
     "name": "stdout",
     "output_type": "stream",
     "text": [
      "e^x = 2.7182818011463845\n"
     ]
    }
   ],
   "source": [
    "#3.15\n",
    "\n",
    "def exponential(n,x):\n",
    "    sum = 1.0\n",
    "    for i in range(n, 0,-1):\n",
    "        sum = 1 + x * sum / i\n",
    "    print(\"e^x =\", sum)\n",
    "    \n",
    "n = 10\n",
    "x = 1.0\n",
    "exponential(n,x)"
   ]
  },
  {
   "cell_type": "code",
   "execution_count": 11,
   "metadata": {},
   "outputs": [
    {
     "name": "stdout",
     "output_type": "stream",
     "text": [
      "enter 10 numbers :7\n",
      "4\n",
      "3\n",
      "2\n",
      "6\n",
      "7\n",
      "8\n",
      "9\n",
      "1\n",
      "0\n",
      "7\n",
      "user list is [4, 3, 2, 6, 7, 8, 9, 1, 0, 7]\n",
      "first max number is : 9 Second max number is :  8\n"
     ]
    }
   ],
   "source": [
    "#3.16\n",
    "list1 = []\n",
    "items = int (input(\"enter 10 numbers :\"))\n",
    "for i in range (0,10):\n",
    "    item = int(input())\n",
    "    list1.append(item)\n",
    "print(\"user list is\", list1)\n",
    "\n",
    "max1 = max(list1[0],list1[1]) \n",
    "secondmax = min(list1[0],list1[1]) \n",
    "  \n",
    "for i in range(2,len(list1)): \n",
    "    if list1[i] > max1: \n",
    "        secondmax = max1\n",
    "        max1 = list1[i] \n",
    "    else: \n",
    "        if list1[i] > secondmax: \n",
    "            secondmax = list1[i] \n",
    "print(\"first max number is :\", str(max1), \"Second max number is : \",str(secondmax)) "
   ]
  },
  {
   "cell_type": "code",
   "execution_count": 12,
   "metadata": {},
   "outputs": [],
   "source": [
    "#3.17\n",
    "def path1():\n",
    "    for i in range(10):\n",
    "        for j in range(i + 1):\n",
    "            print('*' , end = '')\n",
    "        print() \n",
    "        \n",
    "def path2():\n",
    "    for i in range(10, -1, -1):\n",
    "        for j in range(i):\n",
    "            print('*' , end = '')\n",
    "        print()\n",
    "        \n",
    "def path3():\n",
    "    for i in range(10,-1,-1):\n",
    "        for k in range(10 - i):\n",
    "            print(' ', end ='')\n",
    "        for j in range(i + 1):\n",
    "            print('*', end = '')\n",
    "        print()\n",
    "        \n",
    "def path4():\n",
    "    for i in range(10):\n",
    "        for k in range(10 - i):\n",
    "            print(' ', end = '')\n",
    "        for j in range(i+1):\n",
    "            print('*' , end ='')\n",
    "        print()"
   ]
  },
  {
   "cell_type": "code",
   "execution_count": null,
   "metadata": {},
   "outputs": [],
   "source": []
  },
  {
   "cell_type": "code",
   "execution_count": 13,
   "metadata": {},
   "outputs": [
    {
     "name": "stdout",
     "output_type": "stream",
     "text": [
      "3 4 5\n",
      "8 6 10\n",
      "5 12 13\n",
      "15 8 17\n",
      "12 16 20\n"
     ]
    }
   ],
   "source": [
    "#3.19\n",
    "#limit=int(input(\"Enter upper limit:\"))\n",
    "limit = 20\n",
    "c=0\n",
    "m=2\n",
    "while(c<limit):\n",
    "    for n in range(1,m+1):\n",
    "        a=m*m-n*n\n",
    "        b=2*m*n\n",
    "        c=m*m+n*n\n",
    "        if(c>limit):\n",
    "            break\n",
    "        if(a==0 or b==0 or c==0):\n",
    "            break\n",
    "        print(a,b,c)\n",
    "    m=m+1"
   ]
  },
  {
   "cell_type": "code",
   "execution_count": 14,
   "metadata": {},
   "outputs": [
    {
     "name": "stdout",
     "output_type": "stream",
     "text": [
      "please input a binary integer:7\n",
      "Eroor, number input is not binary integer\n",
      "7\n"
     ]
    }
   ],
   "source": [
    "#3.20\n",
    "binary_int = input('please input a binary integer:')\n",
    "binary_list = []\n",
    "for i in binary_int[::-1]:\n",
    "    binary_list.append(int(i))\n",
    "for i in binary_list:\n",
    "    if i != 0:\n",
    "        if i != 1:\n",
    "            print ('Eroor, number input is not binary integer')\n",
    "            break\n",
    "ans = 0\n",
    "for i in range (len(binary_list)):\n",
    "    ans += binary_list[i] * 2 ** i\n",
    "print(ans)"
   ]
  },
  {
   "cell_type": "code",
   "execution_count": 15,
   "metadata": {},
   "outputs": [
    {
     "name": "stdout",
     "output_type": "stream",
     "text": [
      "ENter the change amount: 6.9\n",
      "6  dollars\n",
      "3  quarters\n",
      "1  dimes\n",
      "1  nickels\n",
      "1  pennies\n"
     ]
    }
   ],
   "source": [
    "#3.21\n",
    "amt = float(input(\"ENter the change amount: \"))\n",
    "dollars = int(amt) #int part is the dollars\n",
    "left = amt-dollars #left decimal part\n",
    "quart = int(left/0.25)#counting no. of quarters\n",
    "left = left - (quart*0.25) #updating left by subtracting the quarters' amount\n",
    "dime = int(left/0.10) #counting dimes\n",
    "left = left -(dime*0.10) #subtracting the dimes' amount\n",
    "nick = int(left/0.05) #counting nickels\n",
    "left = left - (nick*0.05) #subtracting nickels amount\n",
    "penny = int(left/0.01)+1 #adding 1 to avoid rounding down\n",
    "print(dollars,\" dollars\")\n",
    "print(quart,\" quarters\")\n",
    "print(dime,\" dimes\")\n",
    "print(nick, \" nickels\")\n",
    "print(penny, \" pennies\")"
   ]
  },
  {
   "cell_type": "code",
   "execution_count": null,
   "metadata": {},
   "outputs": [],
   "source": []
  },
  {
   "cell_type": "code",
   "execution_count": null,
   "metadata": {},
   "outputs": [],
   "source": []
  }
 ],
 "metadata": {
  "kernelspec": {
   "display_name": "Python 3",
   "language": "python",
   "name": "python3"
  },
  "language_info": {
   "codemirror_mode": {
    "name": "ipython",
    "version": 3
   },
   "file_extension": ".py",
   "mimetype": "text/x-python",
   "name": "python",
   "nbconvert_exporter": "python",
   "pygments_lexer": "ipython3",
   "version": "3.7.3"
  }
 },
 "nbformat": 4,
 "nbformat_minor": 2
}
