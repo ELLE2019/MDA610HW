{
 "cells": [
  {
   "cell_type": "code",
   "execution_count": 1,
   "metadata": {},
   "outputs": [
    {
     "name": "stdout",
     "output_type": "stream",
     "text": [
      " Choose number grade76\n",
      "C\n"
     ]
    }
   ],
   "source": [
    "#A: 90-100\n",
    "#B: 80-89\n",
    "#C: 70-79\n",
    "#D: 60-69\n",
    "score = int(input(\" Choose number grade\"))\n",
    "if score >= 90: \n",
    "    print(\"A\")\n",
    "elif 80 <=score <= 89:\n",
    "    print(\"B\")\n",
    "elif 70 <=score <= 79:\n",
    "    print(\"C\")\n",
    "elif 60 <=score <= 69:\n",
    "    print(\"D\") \n",
    "else:\n",
    "    print(\"F\")\n",
    "    "
   ]
  },
  {
   "cell_type": "code",
   "execution_count": 4,
   "metadata": {},
   "outputs": [
    {
     "name": "stdout",
     "output_type": "stream",
     "text": [
      "{3, 4, 5}\n"
     ]
    }
   ],
   "source": [
    "A=[1,2,3,4,5] \n",
    "B=[3,4,5,6,7]\n",
    "print(set(A).intersection(set(B)))"
   ]
  },
  {
   "cell_type": "code",
   "execution_count": 1,
   "metadata": {},
   "outputs": [
    {
     "ename": "SyntaxError",
     "evalue": "invalid syntax (<ipython-input-1-9a8f5b73d377>, line 3)",
     "output_type": "error",
     "traceback": [
      "\u001b[0;36m  File \u001b[0;32m\"<ipython-input-1-9a8f5b73d377>\"\u001b[0;36m, line \u001b[0;32m3\u001b[0m\n\u001b[0;31m    c = [ x for in A if x in B]\u001b[0m\n\u001b[0m                 ^\u001b[0m\n\u001b[0;31mSyntaxError\u001b[0m\u001b[0;31m:\u001b[0m invalid syntax\n"
     ]
    }
   ],
   "source": [
    "A=[1,2,3,4,5] \n",
    "B=[3,4,5,6,7]\n",
    "c = [ x for in A if x in B]\n",
    "c"
   ]
  },
  {
   "cell_type": "code",
   "execution_count": 5,
   "metadata": {},
   "outputs": [
    {
     "name": "stdout",
     "output_type": "stream",
     "text": [
      "1 2 3 4 5\n",
      "2 4 6 8 10\n",
      "3 6 9 12 15\n",
      "4 8 12 16 20\n"
     ]
    }
   ],
   "source": [
    "list = range(1,5)\n",
    "for i in list:\n",
    "    print(i, i*2, i*3, i*4, i*5)"
   ]
  },
  {
   "cell_type": "code",
   "execution_count": null,
   "metadata": {},
   "outputs": [],
   "source": []
  }
 ],
 "metadata": {
  "kernelspec": {
   "display_name": "Python 3",
   "language": "python",
   "name": "python3"
  },
  "language_info": {
   "codemirror_mode": {
    "name": "ipython",
    "version": 3
   },
   "file_extension": ".py",
   "mimetype": "text/x-python",
   "name": "python",
   "nbconvert_exporter": "python",
   "pygments_lexer": "ipython3",
   "version": "3.7.3"
  }
 },
 "nbformat": 4,
 "nbformat_minor": 2
}
