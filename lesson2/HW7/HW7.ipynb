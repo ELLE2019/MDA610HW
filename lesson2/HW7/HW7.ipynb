{
 "cells": [
  {
   "cell_type": "code",
   "execution_count": 1,
   "metadata": {},
   "outputs": [
    {
     "data": {
      "text/plain": [
       "{'mean': 7.25, 'variance': 2.1875, 'std': 1.479019945774904}"
      ]
     },
     "execution_count": 1,
     "metadata": {},
     "output_type": "execute_result"
    }
   ],
   "source": [
    "x = [5,8,9,7]\n",
    "\n",
    "def a(x):\n",
    "    import numpy as np\n",
    "    adict={}\n",
    "    lista=['mean','variance','std']\n",
    "    m = np.mean(x)\n",
    "    v = np.var(x)\n",
    "    s = np.std(x)\n",
    "    \n",
    "    listb=[m,v,s]\n",
    "    for i in range(len(lista)):\n",
    "        adict[lista[i]]=listb[i]\n",
    "    return adict\n",
    "\n",
    "a(x)"
   ]
  },
  {
   "cell_type": "code",
   "execution_count": 4,
   "metadata": {},
   "outputs": [
    {
     "name": "stdout",
     "output_type": "stream",
     "text": [
      "Please enter another number: 5\n",
      "Please enter another number: 6\n",
      "Please enter another number: 4\n",
      "Please enter another number: stop\n",
      "The mean of all these numbers together is: 5.0\n"
     ]
    }
   ],
   "source": [
    "m = []\n",
    "while True:\n",
    "    number1 =input(\"Please enter another number: \")\n",
    "    if number1 == \"stop\":\n",
    "        break\n",
    "    number1 = float(number1)\n",
    "    m.append(int(number1))\n",
    "    \n",
    "print (\"The mean of all these numbers together is: \"+ str(sum(m)/len(m)))\n",
    "           "
   ]
  },
  {
   "cell_type": "code",
   "execution_count": null,
   "metadata": {},
   "outputs": [],
   "source": []
  },
  {
   "cell_type": "code",
   "execution_count": null,
   "metadata": {},
   "outputs": [],
   "source": []
  }
 ],
 "metadata": {
  "kernelspec": {
   "display_name": "Python 3",
   "language": "python",
   "name": "python3"
  },
  "language_info": {
   "codemirror_mode": {
    "name": "ipython",
    "version": 3
   },
   "file_extension": ".py",
   "mimetype": "text/x-python",
   "name": "python",
   "nbconvert_exporter": "python",
   "pygments_lexer": "ipython3",
   "version": "3.7.3"
  }
 },
 "nbformat": 4,
 "nbformat_minor": 2
}
